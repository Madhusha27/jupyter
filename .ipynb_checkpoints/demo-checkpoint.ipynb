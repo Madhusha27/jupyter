{
 "cells": [
  {
   "cell_type": "code",
   "execution_count": 10,
   "id": "656d1219",
   "metadata": {},
   "outputs": [],
   "source": [
    "def prime(num):\n",
    "    count=0\n",
    "    for i in range(1,num):\n",
    "        if num%i==0:\n",
    "            count=count+1\n",
    "        if count==1:\n",
    "            print('prime')\n",
    "        else:\n",
    "            print('not prime')"
   ]
  },
  {
   "cell_type": "code",
   "execution_count": 13,
   "id": "e45e0542",
   "metadata": {},
   "outputs": [
    {
     "name": "stdout",
     "output_type": "stream",
     "text": [
      "prime\n",
      "prime\n"
     ]
    }
   ],
   "source": [
    "prime(3)"
   ]
  },
  {
   "cell_type": "code",
   "execution_count": null,
   "id": "4c805242",
   "metadata": {},
   "outputs": [],
   "source": []
  }
 ],
 "metadata": {
  "kernelspec": {
   "display_name": "Python 3 (ipykernel)",
   "language": "python",
   "name": "python3"
  },
  "language_info": {
   "codemirror_mode": {
    "name": "ipython",
    "version": 3
   },
   "file_extension": ".py",
   "mimetype": "text/x-python",
   "name": "python",
   "nbconvert_exporter": "python",
   "pygments_lexer": "ipython3",
   "version": "3.9.13"
  }
 },
 "nbformat": 4,
 "nbformat_minor": 5
}
